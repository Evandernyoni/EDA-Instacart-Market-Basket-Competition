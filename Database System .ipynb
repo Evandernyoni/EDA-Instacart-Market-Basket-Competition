{
 "cells": [
  {
   "cell_type": "markdown",
   "metadata": {},
   "source": [
    "## Technical Proposal of the Database System"
   ]
  },
  {
   "cell_type": "markdown",
   "metadata": {},
   "source": [
    "### Table of contents\n",
    "  1. [Background & Requirements Specifications](#second-bullet)\n",
    "  2. [Technical Specifications](#second-bullet)\n",
    "  3. [Time-frames](#second-bullet)"
   ]
  },
  {
   "cell_type": "markdown",
   "metadata": {},
   "source": [
    "#### Background & Requirements Specifications"
   ]
  },
  {
   "cell_type": "markdown",
   "metadata": {},
   "source": [
    "À client currently conducts various surveys, one of which involves retail audit data which involves a monthly collection of information from stores. The client uses Surveytogo, a data collection software for tablets. This software allows the client to export data into either SPSS or Excel.\n",
    "\n",
    "The client wants a database system in which he can import the data monthly and be able to run various analyses such as calculating sales volumes and so on. The system must be able to run various queries as well.\n",
    "\n",
    "The mobile devices upload to a separate server that the client then extracts the data from. Currently they are using a manual method, hence the need to find a solution for a software where they can import the data into and run their analyses and reports; SQL was used in the past but they were using pen and paper before they moved to Surveytogo.\n",
    "\n",
    "The nature of the data includes the names of the outlets and products, location and so on and then numerical figures for the stocks\n"
   ]
  },
  {
   "cell_type": "markdown",
   "metadata": {},
   "source": [
    "#### Technical Specifications"
   ]
  },
  {
   "cell_type": "markdown",
   "metadata": {},
   "source": [
    "The database system will make use of Microsoft SQL server (being the database management system backend managing the database), together with a graphical user interface designed by Visual studio .net (C#). The system will allow users to import data from the excel sheets (comma delimited data) directly into the database system OR will automate that process for users i.e. through the use of a windows service to copy the files from the other server to the machine running the system at regulated time intervals. This process of data input will be at the user’s discretion. \n",
    "\n",
    "The system utilizes the powerful business intelligence capabilities of crystal reporting to allow for multiple reporting of different database queries. It will make use of a comprehensive search tool to query the database for any information. The reporting tools like charts, graphs, pivot tables, maps, trend analysis and predictive analytics will also be effected to provide users with a quick view / an eagle eye’s view of any particular information for quicker decision making.\n",
    "The system will be a multi user system which means it implements the user roles and rights management capabilities to restrict certain areas from being accessed by certain personnel.\n",
    "\n",
    "It will have an automated database backup and recovery functionality for security and recovery of data in case of any threats.\n",
    "Above all the intuitive, eye catching graphical user interface of the system gives it an urge above the rest as it makes it simpler and easy for anyone to use and operate the system.\n"
   ]
  },
  {
   "cell_type": "markdown",
   "metadata": {},
   "source": [
    "### Time-frames\n",
    "\n",
    "The development of the system including thorough testing of it requires a week and after that we will need another week for implementing the system at the client’s site and train users as well. In the one week development life span we will bring up a first version of the system end of first week, to the user so that we get the user’s opinion at an early stage. A second and third version of the system will be made available until we have a final agreed product.\n"
   ]
  }
 ],
 "metadata": {
  "kernelspec": {
   "display_name": "Python 3",
   "language": "python",
   "name": "python3"
  },
  "language_info": {
   "codemirror_mode": {
    "name": "ipython",
    "version": 3
   },
   "file_extension": ".py",
   "mimetype": "text/x-python",
   "name": "python",
   "nbconvert_exporter": "python",
   "pygments_lexer": "ipython3",
   "version": "3.6.3"
  }
 },
 "nbformat": 4,
 "nbformat_minor": 2
}
